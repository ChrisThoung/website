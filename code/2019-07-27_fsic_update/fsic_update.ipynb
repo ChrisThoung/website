{
 "cells": [
  {
   "cell_type": "markdown",
   "metadata": {},
   "source": [
    "# FSIC version 0.2.0 update\n",
    "\n",
    "Notes to accompany [version 0.2.0](https://github.com/ChrisThoung/website/tree/master/code/2019-07-27_fsic_update) of my re-implementation of FSIC. To all intents and purposes these changes are backward compatible with version 0.1.0 from an [earlier post](http://www.christhoung.com/2018/07/08/fsic-gl2007-pc/). The only change which isn't strictly backward compatible is to the handling of the `status` and `iterations` attributes ([[4]](#4.-Treatment-of-status-and-iterations-attributes-is-now-consistent-with-that-of-the-economic-variables) below). However, there's rarely any reason for the user to modify these directly. Version 0.2.0 changes are *essentially* backward compatible.\n",
    "\n",
    "1. [Support for tab completion in interactive settings](#1.-Support-for-tab-completion-in-interactive-settings)\n",
    "2. [Use `copy()` to duplicate model instances](#2.-Use-copy()-to-duplicate-model-instances)\n",
    "3. [Features to ease manual edits to model definitions](#3.-Features-to-ease-manual-edits-to-model-definitions)\n",
    "4. [Treatment of `status` and `iterations` attributes now consistent with that of the economic variables](#4.-Treatment-of-status-and-iterations-attributes-is-now-consistent-with-that-of-the-economic-variables)\n",
    "\n",
    "The examples below use a simplified five-equation version of Godley and Lavoie's (2007) Model *SIM*, abstracting away the mechanisms that equalise demand and supply as well as the treatment of the labour market. See the first part of [one of my earlier posts](http://www.christhoung.com/2015/12/08/sim-graph/) for details of the original model.\n",
    "\n",
    "## Setup\n",
    "\n",
    "### Model\n",
    "\n",
    "In this five-equation model, consumption $\\left( C \\right)$ in time $t$ is a function of disposable income $\\left( YD \\right)$ and past accumulated wealth $\\left( H \\right)$. The propensities to consume out of each are $\\alpha_1$ and $\\alpha_2$, respectively:\n",
    "\n",
    "$$\\begin{equation} \\tag{1} C_t = \\alpha_1 \\cdot YD_t + \\alpha_2 \\cdot H_{t-1} \\end{equation}$$\n",
    "\n",
    "Disposable income is national income, $Y$ (here, implicitly equal to household wage income), less taxes $\\left( T \\right)$:\n",
    "\n",
    "$$\\begin{equation} \\tag{2} YD_t = Y_t - T_t \\end{equation}$$\n",
    "\n",
    "National income is consumption plus government expenditure, $G$. The economy is closed, and with no investment:\n",
    "\n",
    "$$\\begin{equation} \\tag{3} Y_t = C_t + G_t \\end{equation}$$\n",
    "\n",
    "Taxes are levied as a fixed proportion $\\left( \\theta \\right)$ of income:\n",
    "\n",
    "$$\\begin{equation} \\tag{4} T_t = \\theta \\cdot Y_t \\end{equation}$$\n",
    "\n",
    "Households accumulate savings (wealth) over time from the difference between ingoings (income) and outgoings (expenditure):\n",
    "\n",
    "$$\\begin{equation} \\tag{5} H_t = H_{t-1} + YD_t - C_t \\end{equation}$$\n",
    "\n",
    "### Implementation\n",
    "\n",
    "In FSIC, generate the accompanying class definition as follows (see my [earlier post](http://www.christhoung.com/2018/07/08/fsic-gl2007-pc/) for more details about the syntax and workflow):"
   ]
  },
  {
   "cell_type": "code",
   "execution_count": 1,
   "metadata": {},
   "outputs": [],
   "source": [
    "import numpy as np  # Import for later\n",
    "import fsic"
   ]
  },
  {
   "cell_type": "code",
   "execution_count": 2,
   "metadata": {},
   "outputs": [],
   "source": [
    "script = '''\n",
    "C = {alpha_1} * YD + {alpha_2} * H[-1]\n",
    "YD = Y - T\n",
    "Y = C + G\n",
    "T = {theta} * Y\n",
    "H = H[-1] + YD - C\n",
    "'''\n",
    "\n",
    "symbols = fsic.parse_model(script)\n",
    "SIM = fsic.build_model(symbols)"
   ]
  },
  {
   "cell_type": "markdown",
   "metadata": {},
   "source": [
    "## Features\n",
    "\n",
    "Having constructed an example model, we can take a look at the changes in version 0.2.0. As mentioned above, all but one of these changes is backward compatible. The last one isn't strictly so but the use cases in which this matters are obscure enough for it not to be a problem in most situations.\n",
    "\n",
    "### 1. Support for tab completion in interactive settings\n",
    "\n",
    "Object attributes that point to variable names (e.g. `model.C`, `model.G`) are generated dynamically on instantiation. A new custom [`__dir__()`](https://github.com/ChrisThoung/website/blob/master/code/2019-07-27_fsic_update/fsic.py#L534) magic method in the base class for models includes the variable names (as well as attributes like `span`, `names`, `status` and `iterations`) when passing a model object to [`dir()`](https://docs.python.org/3/library/functions.html#dir)."
   ]
  },
  {
   "cell_type": "code",
   "execution_count": 3,
   "metadata": {},
   "outputs": [
    {
     "name": "stdout",
     "output_type": "stream",
     "text": [
      "['C', 'CHECK', 'CODE', 'ENDOGENOUS', 'ERRORS', 'EXOGENOUS', 'G', 'H', 'LAGS', 'LEADS', 'NAMES', 'PARAMETERS', 'T', 'Y', 'YD', 'alpha_1', 'alpha_2', 'copy', 'iterations', 'names', 'solve', 'solve_period', 'solve_t', 'span', 'status', 'theta', 'values']\n"
     ]
    }
   ],
   "source": [
    "model = SIM(range(1945, 2010 + 1))\n",
    "\n",
    "print(list(filter(lambda x: not x.startswith('_'),\n",
    "                  dir(model))))"
   ]
  },
  {
   "cell_type": "code",
   "execution_count": 4,
   "metadata": {},
   "outputs": [],
   "source": [
    "# In IPython, Jupyter etc, type `model.` (as below; currently commented out)\n",
    "# and then press tab to see the completion options\n",
    "\n",
    "#model."
   ]
  },
  {
   "cell_type": "markdown",
   "metadata": {},
   "source": [
    "### 2. Use `copy()` to duplicate model instances\n",
    "\n",
    "Having set up a new model instance with data and parameters, we might want to run different scenarios as separate instances. Rather than generate the model from scratch each time, use [`copy()`](https://github.com/ChrisThoung/website/blob/master/code/2019-07-27_fsic_update/fsic.py#L523) to create duplicate instances with the same state (values). The class also supports the [`copy()`](https://docs.python.org/3.6/library/copy.html#copy.copy) and [`deepcopy()`](https://docs.python.org/3.6/library/copy.html#copy.deepcopy) functions from the standard library [`copy`](https://docs.python.org/3.6/library/copy.html) module."
   ]
  },
  {
   "cell_type": "code",
   "execution_count": 5,
   "metadata": {},
   "outputs": [
    {
     "data": {
      "text/plain": [
       "array([[ 0.        , 38.46153068, 47.92898039, 55.93990487, 62.71838627],\n",
       "       [ 0.        , 48.07691335, 59.91123828, 69.92488908, 78.39797772]])"
      ]
     },
     "execution_count": 5,
     "metadata": {},
     "output_type": "execute_result"
    }
   ],
   "source": [
    "# Create an initial model instance and copy to a second instance\n",
    "model = SIM(range(1945, 2010 + 1),\n",
    "            alpha_1=0.6, alpha_2=0.4, theta=0.2)\n",
    "\n",
    "model2 = model.copy()\n",
    "\n",
    "# Set different values for `G` and solve\n",
    "model.G = 20\n",
    "model2.G = 25\n",
    "\n",
    "model.solve()\n",
    "model2.solve()\n",
    "\n",
    "# Print the results for output (Y) from the first five periods of each run:\n",
    "#  - first row lists results for G = 20\n",
    "#  - second row lists results for G = 25\n",
    "np.vstack([model.Y, model2.Y])[:, :5]"
   ]
  },
  {
   "cell_type": "markdown",
   "metadata": {},
   "source": [
    "### 3. Features to ease manual edits to model definitions\n",
    "\n",
    "FSIC makes it easier to define models and generate valid Python code with supporting features (embedded in the [base class](https://github.com/ChrisThoung/website/blob/master/code/2019-07-27_fsic_update/fsic.py#L369)) for economic modelling. The code so generated defines a derived class that can be edited further, for example, to:\n",
    "\n",
    "1. change the economic relationships in the model\n",
    "2. add/remove variables, including those used to check for solution convergence each period\n",
    "3. add other behaviour e.g. new controls with keyword arguments\n",
    "\n",
    "As below, the original code is accessible either by:\n",
    "\n",
    "1. inspecting the `CODE` attribute of a class definition created with [`build_model()`](https://github.com/ChrisThoung/website/blob/master/code/2019-07-27_fsic_update/fsic.py#L709)\n",
    "2. using [`build_model_definition()`](https://github.com/ChrisThoung/website/blob/master/code/2019-07-27_fsic_update/fsic.py#L668) to return the code as a string (and avoid the [`exec()`](https://docs.python.org/3/library/functions.html#exec) call that makes the class available during a Python session)"
   ]
  },
  {
   "cell_type": "code",
   "execution_count": 6,
   "metadata": {},
   "outputs": [
    {
     "name": "stdout",
     "output_type": "stream",
     "text": [
      "class Model(BaseModel):\n",
      "    ENDOGENOUS = ['C', 'YD', 'H', 'Y', 'T']\n",
      "    EXOGENOUS = ['G']\n",
      "\n",
      "    PARAMETERS = ['alpha_1', 'alpha_2', 'theta']\n",
      "    ERRORS = []\n",
      "\n",
      "    NAMES = ENDOGENOUS + EXOGENOUS + PARAMETERS + ERRORS\n",
      "    CHECK = ENDOGENOUS\n",
      "\n",
      "    LAGS = 1\n",
      "    LEADS = 0\n",
      "\n",
      "    def _evaluate(self, t):\n",
      "        self._C[t] = self._alpha_1[t] * self._YD[t] + self._alpha_2[t] * self._H[t-1]\n",
      "        self._YD[t] = self._Y[t] - self._T[t]\n",
      "        self._H[t] = self._H[t-1] + self._YD[t] - self._C[t]\n",
      "        self._Y[t] = self._C[t] + self._G[t]\n",
      "        self._T[t] = self._theta[t] * self._Y[t]\n"
     ]
    }
   ],
   "source": [
    "# Either of these work to print the class definition\n",
    "\n",
    "# 1. Inspect the `CODE` attribute of a class definition created with\n",
    "#    `build_model()` (previously created with `fsic.build_model()`)\n",
    "#print(SIM.CODE)\n",
    "\n",
    "# 2. Use `build_model_definition()` to return the code as a string (and avoid\n",
    "#    the `exec()` call that makes the class available during a Python session)\n",
    "print(fsic.build_model_definition(symbols))"
   ]
  },
  {
   "cell_type": "markdown",
   "metadata": {},
   "source": [
    "The code above is valid Python code and thus editable to, for example:\n",
    "\n",
    "1. remove extraneous variable lists like the `ERRORS` attribute\n",
    "    - delete the `ERRORS` attribute (equally, you could define new lists of variables)\n",
    "    - edit the (new) `NAMES` attribute definition to exclude `ERRORS` (it's just a list: you can write in lists of strings directly if you want)\n",
    "    - `NAMES` is important because it's what the model uses to dynamically generate variables\n",
    "2. (arbitrarily) reduce the list of variables to be checked for convergence during solution\n",
    "    - `CHECK` is the other new attribute and defines the names of the variables to test for convergence in solution each period\n",
    "3. extend the bottom-level `_evaluate()` function signature with a keyword argument to apply exogenous adjustments to household consumption expenditure (with a new line of code in the function body)\n",
    "    - you can pass keyword arguments down the stack to `_evaluate()` from any of the `solve` methods:\n",
    "        - [`solve()`](https://github.com/ChrisThoung/website/blob/master/code/2019-07-27_fsic_update/fsic.py#L547)\n",
    "        - [`solve_period()`](https://github.com/ChrisThoung/website/blob/master/code/2019-07-27_fsic_update/fsic.py#L579)\n",
    "        - [`solve_t()`](https://github.com/ChrisThoung/website/blob/master/code/2019-07-27_fsic_update/fsic.py#L596)\n",
    "\n",
    "The new code is below. Alternatively, see the diff between the code above and below [here](https://github.com/ChrisThoung/website/commit/e52f7cacc93442abe54a55de17533ec87639fc02#diff-1e4221b404e59095194ffc872f21ff4a)."
   ]
  },
  {
   "cell_type": "code",
   "execution_count": 7,
   "metadata": {},
   "outputs": [],
   "source": [
    "from fsic import BaseModel\n",
    "\n",
    "\n",
    "class CustomSIM(BaseModel):\n",
    "    ENDOGENOUS = ['C', 'YD', 'H', 'Y', 'T']\n",
    "    EXOGENOUS = ['G']\n",
    "\n",
    "    PARAMETERS = ['alpha_1', 'alpha_2', 'theta']\n",
    "\n",
    "    # Remove extraneous (empty) `ERRORS` attribute\n",
    "    NAMES = ENDOGENOUS + EXOGENOUS + PARAMETERS\n",
    "\n",
    "    # (Arbitrarily) reduce the variables to be checked for convergence during\n",
    "    # solution\n",
    "    CHECK = ['C', 'H', 'Y']\n",
    "\n",
    "    LAGS = 1\n",
    "    LEADS = 0\n",
    "\n",
    "    # Extend function signature with a new keyword argument to apply exogenous\n",
    "    # changes in household consumption expenditure\n",
    "    # Not required, but note use of keyword-only argument in the function\n",
    "    # signature:\n",
    "    #     https://www.python.org/dev/peps/pep-3102/\n",
    "    def _evaluate(self, t, *, exogenous_change_in_consumption=0):\n",
    "        self._C[t] = self._alpha_1[t] * self._YD[t] + self._alpha_2[t] * self._H[t-1]\n",
    "\n",
    "        # Apply exogenous changes in household consumption expenditure\n",
    "        self._C[t] += exogenous_change_in_consumption\n",
    "\n",
    "        self._YD[t] = self._Y[t] - self._T[t]\n",
    "        self._H[t] = self._H[t-1] + self._YD[t] - self._C[t]\n",
    "        self._Y[t] = self._C[t] + self._G[t]\n",
    "        self._T[t] = self._theta[t] * self._Y[t]"
   ]
  },
  {
   "cell_type": "code",
   "execution_count": 8,
   "metadata": {},
   "outputs": [],
   "source": [
    "custom_model = CustomSIM(range(1945, 2010 + 1),\n",
    "                         alpha_1=0.6, alpha_2=0.4, theta=0.2)\n",
    "custom_model.G = 20\n",
    "\n",
    "custom_model.solve()"
   ]
  },
  {
   "cell_type": "code",
   "execution_count": 9,
   "metadata": {},
   "outputs": [],
   "source": [
    "custom_model2 = custom_model.copy()\n",
    "\n",
    "# Re-solve from 1980 onwards with an exogenous increase (decrease) in household\n",
    "# saving (consumption)\n",
    "custom_model2.solve(start=1980, exogenous_change_in_consumption=-5)"
   ]
  },
  {
   "cell_type": "code",
   "execution_count": 10,
   "metadata": {},
   "outputs": [
    {
     "data": {
      "text/plain": [
       "array([[99.7516991 , 99.78989923, 99.82222242, 99.84957282, 99.87271546],\n",
       "       [99.7516991 , 90.17453275, 91.68614743, 92.96520534, 94.04749008]])"
      ]
     },
     "execution_count": 10,
     "metadata": {},
     "output_type": "execute_result"
    }
   ],
   "source": [
    "# Output results for 1979-83 from each run:\n",
    "#  - first row lists results from the baseline\n",
    "#  - second row lists results with the increase in saving\n",
    "np.vstack([custom_model['Y', 1979:1983],\n",
    "           custom_model2['Y', 1979:1983]])"
   ]
  },
  {
   "cell_type": "markdown",
   "metadata": {},
   "source": [
    "### 4. Treatment of `status` and `iterations` attributes is now consistent with that of the economic variables\n",
    "\n",
    "Now, as with the economic variables in a model, there's protection around the `status` and `iterations` attributes to preserve:\n",
    " - their type as NumPy arrays and, by extension, their shape\n",
    " - the `dtype` (variable type) of the arrays"
   ]
  },
  {
   "cell_type": "code",
   "execution_count": 11,
   "metadata": {},
   "outputs": [
    {
     "name": "stdout",
     "output_type": "stream",
     "text": [
      "['-' '-' '-' '-' '-']\n",
      "[-1 -1 -1 -1 -1]\n"
     ]
    }
   ],
   "source": [
    "model = SIM(range(1945, 2010 + 1),\n",
    "            alpha_1=0.6, alpha_2=0.4, theta=0.2)\n",
    "\n",
    "print(model.status[:5])\n",
    "print(model.iterations[:5])"
   ]
  },
  {
   "cell_type": "code",
   "execution_count": 12,
   "metadata": {},
   "outputs": [
    {
     "name": "stdout",
     "output_type": "stream",
     "text": [
      "['.' '.' '.' '.' '.']\n",
      "[ 0 -1  0 -1  0]\n"
     ]
    }
   ],
   "source": [
    "model.status = '.'\n",
    "model.iterations[::2] = 0\n",
    "\n",
    "print(model.status[:5])\n",
    "print(model.iterations[:5])"
   ]
  },
  {
   "cell_type": "markdown",
   "metadata": {},
   "source": [
    "See [here](https://github.com/ChrisThoung/website/tree/master/code/2019-07-27_fsic_update) for this post as a Jupyter notebook along with supporting Python code."
   ]
  },
  {
   "cell_type": "markdown",
   "metadata": {},
   "source": [
    "## References\n",
    "\n",
    "Godley, W., Lavoie, M. (2007)\n",
    "*Monetary economics: An integrated approach to\n",
    "credit, money, income, production and wealth*,\n",
    "Palgrave Macmillan"
   ]
  }
 ],
 "metadata": {
  "kernelspec": {
   "display_name": "Python 3",
   "language": "python",
   "name": "python3"
  },
  "language_info": {
   "codemirror_mode": {
    "name": "ipython",
    "version": 3
   },
   "file_extension": ".py",
   "mimetype": "text/x-python",
   "name": "python",
   "nbconvert_exporter": "python",
   "pygments_lexer": "ipython3",
   "version": "3.6.7"
  }
 },
 "nbformat": 4,
 "nbformat_minor": 2
}
