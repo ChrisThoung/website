{
 "cells": [
  {
   "cell_type": "markdown",
   "metadata": {},
   "source": [
    "# An initial foray into computer algebra with SymPy\n",
    "\n",
    "This is a first go at using a computer algebra system ([SymPy](https://www.sympy.org/en/index.html)) to explore the formal steady state of a [Stock-Flow Consistent model](https://en.wikipedia.org/wiki/Stock-Flow_consistent_model). For this, I use a simplified five-equation version of Godley and Lavoie's (2007) Model *SIM*. For more information, see my previous posts [here](http://www.christhoung.com/2015/12/08/sim-graph/) and [here](http://www.christhoung.com/2019/07/27/fsic-update/)."
   ]
  },
  {
   "cell_type": "markdown",
   "metadata": {},
   "source": [
    "## Model\n",
    "\n",
    "Assume a closed economy with no investment such that national income, $Y$, in time $t$ consists of household final consumption expenditure, $C$, and government expenditure, $G$:\n",
    "\n",
    "\\begin{equation} \\tag{1}\n",
    "Y_t = C_t + G_t\n",
    "\\end{equation}\n",
    "\n",
    "Government expenditure $\\left( G \\right)$ is exogenous. Consumption $\\left( C \\right)$ depends on current disposable income, $YD$, and accumulated wealth, $H$ (from the previous period):\n",
    "\n",
    "\\begin{equation} \\tag{2}\n",
    "C_t = \\alpha_1 \\cdot YD_t + \\alpha_2 \\cdot H_{t-1}\n",
    "\\end{equation}\n",
    "\n",
    "$\\alpha_1$ and $\\alpha_2$ are the marginal propensities to consume out of disposable income $\\left( YD \\right)$ and wealth $\\left( H \\right)$, respectively.\n",
    "\n",
    "Disposable income $\\left( YD \\right)$ is national income $\\left( Y \\right)$ minus taxes, $T$, which are levied at a fixed proportion, $\\theta$:\n",
    "\n",
    "\\begin{equation} \\tag{3}\n",
    "YD_t = Y_t - T_t\n",
    "\\end{equation}\n",
    "\n",
    "\\begin{equation} \\tag{4}\n",
    "T_t = \\theta \\cdot Y_t\n",
    "\\end{equation}\n",
    "\n",
    "Households accumulate savings from the difference between their disposable income $\\left( YD \\right)$ and their expenditure $\\left( C \\right)$:\n",
    "\n",
    "\\begin{equation} \\tag{5}\n",
    "H_t = H_{t-1} + YD_t - C_t\n",
    "\\end{equation}"
   ]
  },
  {
   "cell_type": "markdown",
   "metadata": {},
   "source": [
    "## Numerical solution\n",
    "\n",
    "We can use FSIC to define and then solve the model numerically (see my [earlier post](http://www.christhoung.com/2018/07/08/fsic-gl2007-pc/) for details of the syntax):"
   ]
  },
  {
   "cell_type": "code",
   "execution_count": 1,
   "metadata": {},
   "outputs": [],
   "source": [
    "import fsic\n",
    "\n",
    "# Define the model's economic logic in a string\n",
    "script = '''\n",
    "Y = C + G\n",
    "C = {alpha_1} * YD + {alpha_2} * H[-1]\n",
    "YD = Y - T\n",
    "T = {theta} * Y\n",
    "H = H[-1] + YD - C\n",
    "'''\n",
    "\n",
    "# Translate into a set of symbols and a model class definition in one go\n",
    "SIM = fsic.build_model(fsic.parse_model(script))"
   ]
  },
  {
   "cell_type": "markdown",
   "metadata": {},
   "source": [
    "Simulate the model over a long enough period for it to achieve its *stationary state* (at which the values of the variables in levels are constant):"
   ]
  },
  {
   "cell_type": "code",
   "execution_count": 2,
   "metadata": {},
   "outputs": [],
   "source": [
    "model = SIM(range(1, 100 + 1))  # Solve from Period 1 to 100\n",
    "\n",
    "# Set propensities to consume\n",
    "model.alpha_1 = 0.6\n",
    "model.alpha_2 = 0.4\n",
    "\n",
    "# Fiscal policy\n",
    "model.G[1:] = 20   # Government spending\n",
    "model.theta = 0.2  # Rate of income tax\n",
    "\n",
    "model.solve()"
   ]
  },
  {
   "cell_type": "markdown",
   "metadata": {},
   "source": [
    "We can then reproduce the main elements of Table 3.4 from Godley and Lavoie (2007) ('The impact of $20 of government expenditures, with perfect foresight').\n",
    "\n",
    "While I've made no changes to FSIC for this post, I have added a new module to accompany the core library: [fsictools](https://github.com/ChrisThoung/website/blob/master/code/2019-12-03_sympy_sim/fsictools.py). This provides the [`to_dataframe()`](https://github.com/ChrisThoung/website/blob/master/code/2019-12-03_sympy_sim/fsictools.py#L35) function from an [earlier post](http://www.christhoung.com/2018/07/08/fsic-gl2007-pc/)."
   ]
  },
  {
   "cell_type": "code",
   "execution_count": 3,
   "metadata": {},
   "outputs": [
    {
     "data": {
      "text/html": [
       "<div>\n",
       "<style scoped>\n",
       "    .dataframe tbody tr th:only-of-type {\n",
       "        vertical-align: middle;\n",
       "    }\n",
       "\n",
       "    .dataframe tbody tr th {\n",
       "        vertical-align: top;\n",
       "    }\n",
       "\n",
       "    .dataframe thead th {\n",
       "        text-align: right;\n",
       "    }\n",
       "</style>\n",
       "<table border=\"1\" class=\"dataframe\">\n",
       "  <thead>\n",
       "    <tr style=\"text-align: right;\">\n",
       "      <th></th>\n",
       "      <th>1</th>\n",
       "      <th>2</th>\n",
       "      <th>3</th>\n",
       "      <th>100</th>\n",
       "    </tr>\n",
       "  </thead>\n",
       "  <tbody>\n",
       "    <tr>\n",
       "      <th>G</th>\n",
       "      <td>0.0</td>\n",
       "      <td>20.0</td>\n",
       "      <td>20.0</td>\n",
       "      <td>20.0</td>\n",
       "    </tr>\n",
       "    <tr>\n",
       "      <th>Y</th>\n",
       "      <td>0.0</td>\n",
       "      <td>38.5</td>\n",
       "      <td>47.9</td>\n",
       "      <td>100.0</td>\n",
       "    </tr>\n",
       "    <tr>\n",
       "      <th>T</th>\n",
       "      <td>0.0</td>\n",
       "      <td>7.7</td>\n",
       "      <td>9.6</td>\n",
       "      <td>20.0</td>\n",
       "    </tr>\n",
       "    <tr>\n",
       "      <th>YD</th>\n",
       "      <td>0.0</td>\n",
       "      <td>30.8</td>\n",
       "      <td>38.3</td>\n",
       "      <td>80.0</td>\n",
       "    </tr>\n",
       "    <tr>\n",
       "      <th>C</th>\n",
       "      <td>0.0</td>\n",
       "      <td>18.5</td>\n",
       "      <td>27.9</td>\n",
       "      <td>80.0</td>\n",
       "    </tr>\n",
       "    <tr>\n",
       "      <th>H</th>\n",
       "      <td>0.0</td>\n",
       "      <td>12.3</td>\n",
       "      <td>22.7</td>\n",
       "      <td>80.0</td>\n",
       "    </tr>\n",
       "    <tr>\n",
       "      <th>D(H)</th>\n",
       "      <td>NaN</td>\n",
       "      <td>12.3</td>\n",
       "      <td>10.4</td>\n",
       "      <td>0.0</td>\n",
       "    </tr>\n",
       "  </tbody>\n",
       "</table>\n",
       "</div>"
      ],
      "text/plain": [
       "      1     2     3      100\n",
       "G     0.0  20.0  20.0   20.0\n",
       "Y     0.0  38.5  47.9  100.0\n",
       "T     0.0   7.7   9.6   20.0\n",
       "YD    0.0  30.8  38.3   80.0\n",
       "C     0.0  18.5  27.9   80.0\n",
       "H     0.0  12.3  22.7   80.0\n",
       "D(H)  NaN  12.3  10.4    0.0"
      ]
     },
     "execution_count": 3,
     "metadata": {},
     "output_type": "execute_result"
    }
   ],
   "source": [
    "from fsictools import to_dataframe\n",
    "\n",
    "# Convert the contents of the model to a `pandas` DataFrame\n",
    "results = to_dataframe(model)\n",
    "\n",
    "# Extract selected variables of interest, adding a new column for the change in\n",
    "# wealth\n",
    "extract = results[['G', 'Y', 'T', 'YD', 'C', 'H']].copy()\n",
    "extract['D(H)'] = extract['H'].diff()\n",
    "\n",
    "# Transpose, and select periods, to reproduce the main elements of Table 3.4\n",
    "table_3_4 = extract.T\n",
    "table_3_4[[1, 2, 3, 100]].round(1)"
   ]
  },
  {
   "cell_type": "markdown",
   "metadata": {},
   "source": [
    "By the one-hundredth period, the model has achieved a stationary state at which the values of the variables in levels are constant. The period-on-period change in household wealth is zero."
   ]
  },
  {
   "cell_type": "markdown",
   "metadata": {},
   "source": [
    "## Analytical solution\n",
    "\n",
    "Model *SIM* is small and thus amenable to more formal algebraic analysis of its properties. The remainder of this post replicates key results from Section 3.5 of Godley and Lavoie (2007) using [SymPy](https://www.sympy.org/en/index.html). I'm new to [computer algebra systems](https://en.wikipedia.org/wiki/Computer_algebra_system) so this is both a first go and a note of my early learnings.\n",
    "\n",
    "Define the system of equations in SymPy. Below, I use `1` as a suffix to indicate the one-period lag on wealth $\\left( H \\right)$."
   ]
  },
  {
   "cell_type": "code",
   "execution_count": 4,
   "metadata": {},
   "outputs": [],
   "source": [
    "from sympy import Symbol, Eq        # Term and equation objects\n",
    "from sympy import symbols, sympify  # Helpers to generate SymPy objects\n",
    "from sympy import factor, linsolve  # Expression manipulation and system solution\n",
    "\n",
    "# Define symbols for the endogenous variables\n",
    "Y, C, YD, T, H = symbols('Y, C, YD, T, H')\n",
    "\n",
    "# Define the individual equations with left-hand and right-hand\n",
    "# side expressions\n",
    "output            = Eq(lhs=Y,  rhs=sympify('C + G'))\n",
    "consumption       = Eq(lhs=C,  rhs=sympify('alpha_1 * YD + alpha_2 * H1'))\n",
    "disposable_income = Eq(lhs=YD, rhs=sympify('Y - T'))\n",
    "taxes             = Eq(lhs=T,  rhs=sympify('theta * Y'))\n",
    "wealth            = Eq(lhs=H,  rhs=sympify('H1 + YD - C'))\n",
    "\n",
    "# Assemble the system of equations as a dictionary, keyed by LHS\n",
    "# variable (symbol)\n",
    "system = {\n",
    "    Y: output,\n",
    "    C: consumption,\n",
    "    YD: disposable_income,\n",
    "    T: taxes,\n",
    "    H: wealth,\n",
    "}"
   ]
  },
  {
   "cell_type": "code",
   "execution_count": 5,
   "metadata": {},
   "outputs": [
    {
     "data": {
      "text/latex": [
       "$\\displaystyle Y = C + G$"
      ],
      "text/plain": [
       "Eq(Y, C + G)"
      ]
     },
     "metadata": {},
     "output_type": "display_data"
    },
    {
     "data": {
      "text/latex": [
       "$\\displaystyle C = H_{1} \\alpha_{2} + YD \\alpha_{1}$"
      ],
      "text/plain": [
       "Eq(C, H1*alpha_2 + YD*alpha_1)"
      ]
     },
     "metadata": {},
     "output_type": "display_data"
    },
    {
     "data": {
      "text/latex": [
       "$\\displaystyle YD = - T + Y$"
      ],
      "text/plain": [
       "Eq(YD, -T + Y)"
      ]
     },
     "metadata": {},
     "output_type": "display_data"
    },
    {
     "data": {
      "text/latex": [
       "$\\displaystyle T = Y \\theta$"
      ],
      "text/plain": [
       "Eq(T, Y*theta)"
      ]
     },
     "metadata": {},
     "output_type": "display_data"
    },
    {
     "data": {
      "text/latex": [
       "$\\displaystyle H = - C + H_{1} + YD$"
      ],
      "text/plain": [
       "Eq(H, -C + H1 + YD)"
      ]
     },
     "metadata": {},
     "output_type": "display_data"
    }
   ],
   "source": [
    "# Display the system\n",
    "for v in system.values():\n",
    "    display(v)"
   ]
  },
  {
   "cell_type": "markdown",
   "metadata": {},
   "source": [
    "At the model's stationary state, the values of the variables are constant in levels. As in the above numerical solution, the change in wealth should be zero:\n",
    "\n",
    "\\begin{equation}\n",
    "\\Delta H_t = H_t - H_{t-1} = 0\n",
    "\\end{equation}\n",
    "\n",
    "\\begin{equation}\n",
    "H_t = H_{t-1} = H_{t-2} = H_{t-3} = \\dots\n",
    "\\end{equation}\n",
    "\n",
    "We can impose this on the system by replacing instances of `H1` (the one-period lag of wealth) with `H` (the contemporaneous value of wealth):"
   ]
  },
  {
   "cell_type": "code",
   "execution_count": 6,
   "metadata": {},
   "outputs": [],
   "source": [
    "stationary_state = {\n",
    "    k: v.subs(Symbol('H1'), Symbol('H'))\n",
    "    for k, v in system.items()\n",
    "}"
   ]
  },
  {
   "cell_type": "code",
   "execution_count": 7,
   "metadata": {},
   "outputs": [
    {
     "data": {
      "text/latex": [
       "$\\displaystyle Y = C + G$"
      ],
      "text/plain": [
       "Eq(Y, C + G)"
      ]
     },
     "metadata": {},
     "output_type": "display_data"
    },
    {
     "data": {
      "text/latex": [
       "$\\displaystyle C = H \\alpha_{2} + YD \\alpha_{1}$"
      ],
      "text/plain": [
       "Eq(C, H*alpha_2 + YD*alpha_1)"
      ]
     },
     "metadata": {},
     "output_type": "display_data"
    },
    {
     "data": {
      "text/latex": [
       "$\\displaystyle YD = - T + Y$"
      ],
      "text/plain": [
       "Eq(YD, -T + Y)"
      ]
     },
     "metadata": {},
     "output_type": "display_data"
    },
    {
     "data": {
      "text/latex": [
       "$\\displaystyle T = Y \\theta$"
      ],
      "text/plain": [
       "Eq(T, Y*theta)"
      ]
     },
     "metadata": {},
     "output_type": "display_data"
    },
    {
     "data": {
      "text/latex": [
       "$\\displaystyle H = - C + H + YD$"
      ],
      "text/plain": [
       "Eq(H, -C + H + YD)"
      ]
     },
     "metadata": {},
     "output_type": "display_data"
    }
   ],
   "source": [
    "# Display the system\n",
    "for v in stationary_state.values():\n",
    "    display(v)"
   ]
  },
  {
   "cell_type": "markdown",
   "metadata": {},
   "source": [
    "We can solve for the stationary state with [`linsolve()`](https://docs.sympy.org/latest/modules/solvers/solveset.html#sympy.solvers.solveset.linsolve) and inspect the values:"
   ]
  },
  {
   "cell_type": "code",
   "execution_count": 8,
   "metadata": {},
   "outputs": [],
   "source": [
    "values = list(linsolve(list(stationary_state.values()),    # System of equations\n",
    "                       list(stationary_state.keys())))[0]  # Unknowns to solve for\n",
    "solution = dict(zip(stationary_state.keys(), values))"
   ]
  },
  {
   "cell_type": "code",
   "execution_count": 9,
   "metadata": {},
   "outputs": [
    {
     "data": {
      "text/latex": [
       "$\\displaystyle Y = \\frac{G}{\\theta}$"
      ],
      "text/plain": [
       "Eq(Y, G/theta)"
      ]
     },
     "metadata": {},
     "output_type": "display_data"
    },
    {
     "data": {
      "text/latex": [
       "$\\displaystyle C = - \\frac{G \\left(\\theta - 1\\right)}{\\theta}$"
      ],
      "text/plain": [
       "Eq(C, -G*(theta - 1)/theta)"
      ]
     },
     "metadata": {},
     "output_type": "display_data"
    },
    {
     "data": {
      "text/latex": [
       "$\\displaystyle YD = - \\frac{G \\left(\\theta - 1\\right)}{\\theta}$"
      ],
      "text/plain": [
       "Eq(YD, -G*(theta - 1)/theta)"
      ]
     },
     "metadata": {},
     "output_type": "display_data"
    },
    {
     "data": {
      "text/latex": [
       "$\\displaystyle T = G$"
      ],
      "text/plain": [
       "Eq(T, G)"
      ]
     },
     "metadata": {},
     "output_type": "display_data"
    },
    {
     "data": {
      "text/latex": [
       "$\\displaystyle H = \\frac{G \\left(\\alpha_{1} - 1\\right) \\left(\\theta - 1\\right)}{\\alpha_{2} \\theta}$"
      ],
      "text/plain": [
       "Eq(H, G*(alpha_1 - 1)*(theta - 1)/(alpha_2*theta))"
      ]
     },
     "metadata": {},
     "output_type": "display_data"
    }
   ],
   "source": [
    "# Display the solution at its stationary state\n",
    "for k, v in solution.items():\n",
    "    display(Eq(k, factor(v)))"
   ]
  },
  {
   "cell_type": "markdown",
   "metadata": {},
   "source": [
    "As in Equation 3.15 of Godley and Lavoie (2007), the stationary state for national income (the first result, $Y$) is:\n",
    "\n",
    "\\begin{equation}\n",
    "Y^{\\star} = \\frac{G}{\\theta}\n",
    "\\end{equation}\n",
    "\n",
    "$\\frac{G}{\\theta}$ represents the *fiscal stance*: the ratio of government expenditure to its income share (also as in Godley and Cripps, 1983).\n",
    "\n",
    "The expressions for household final consumption expenditure $\\left( C \\right)$ and disposable income $\\left( YD \\right)$ are the same. The two are equal. This is consistent with (but, here, also follows from) there being no change in wealth at the stationary state. With slight rearrangement:\n",
    "\n",
    "\\begin{equation}\n",
    "C^{\\star} = YD^{\\star} = G \\cdot \\frac{1 - \\theta}{\\theta}\n",
    "\\end{equation}\n",
    "\n",
    "At the stationary state, tax revenues $\\left( T \\right)$ match government expenditures $\\left( G \\right)$ such that government debt (the mirror image of household wealth) is constant.\n",
    "\n",
    "Finally, the level of household wealth (or, conversely, government debt) is, again with some rearrangement:\n",
    "\n",
    "\\begin{equation}\n",
    "H^{\\star} = \\frac{1 - \\alpha_1}{\\alpha_2} \\cdot G \\cdot \\frac{1 - \\theta}{\\theta} = \\alpha_3 \\cdot G \\cdot \\frac{1 - \\theta}{\\theta} = \\alpha_3 \\cdot YD^{\\star}\n",
    "\\end{equation}\n",
    "\n",
    "\\begin{equation}\n",
    "\\alpha_3 = \\frac{1 - \\alpha_1}{\\alpha_2}\n",
    "\\end{equation}"
   ]
  },
  {
   "cell_type": "markdown",
   "metadata": {},
   "source": [
    "See [here](https://github.com/ChrisThoung/website/tree/master/code/2019-12-03_sympy_sim) for this post as a Jupyter notebook along with supporting Python code."
   ]
  },
  {
   "cell_type": "markdown",
   "metadata": {},
   "source": [
    "## References\n",
    "\n",
    "Godley, W., Cripps, F. (1983)\n",
    "*Macroeconomics*,\n",
    "Oxford University Press\n",
    "\n",
    "Godley, W., Lavoie, M. (2007)\n",
    "*Monetary economics: An integrated approach to\n",
    "credit, money, income, production and wealth*,\n",
    "Palgrave Macmillan"
   ]
  }
 ],
 "metadata": {
  "kernelspec": {
   "display_name": "Python 3",
   "language": "python",
   "name": "python3"
  },
  "language_info": {
   "codemirror_mode": {
    "name": "ipython",
    "version": 3
   },
   "file_extension": ".py",
   "mimetype": "text/x-python",
   "name": "python",
   "nbconvert_exporter": "python",
   "pygments_lexer": "ipython3",
   "version": "3.8.0"
  }
 },
 "nbformat": 4,
 "nbformat_minor": 4
}
